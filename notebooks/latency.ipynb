{
 "cells": [
  {
   "cell_type": "code",
   "execution_count": 567,
   "metadata": {
    "collapsed": true,
    "pycharm": {
     "name": "#%%\n"
    }
   },
   "outputs": [],
   "source": [
    "import numpy as np"
   ]
  },
  {
   "cell_type": "code",
   "execution_count": 568,
   "outputs": [],
   "source": [
    "bit_precision = 4\n",
    "bit_per_cell = 1\n",
    "array = 64"
   ],
   "metadata": {
    "collapsed": false,
    "pycharm": {
     "name": "#%%\n"
    }
   }
  },
  {
   "cell_type": "markdown",
   "source": [
    "# 1-bit ADC"
   ],
   "metadata": {
    "collapsed": false,
    "pycharm": {
     "name": "#%% md\n"
    }
   }
  },
  {
   "cell_type": "code",
   "execution_count": 569,
   "outputs": [],
   "source": [
    "ADC_area_per_tile = 7058.166666666667\n",
    "cim_per_tile = 1677.6666666666667\n",
    "tile_area_1 = ADC_area_per_tile + cim_per_tile"
   ],
   "metadata": {
    "collapsed": false,
    "pycharm": {
     "name": "#%%\n"
    }
   }
  },
  {
   "cell_type": "code",
   "execution_count": 570,
   "outputs": [],
   "source": [
    "# Measurements for 1-bit ADC (latency in ns and energy in pJ)\n",
    "# (in_ch, out_ch, k, k), read_latency, buffer_latency, read_energy, buffer_energy\n",
    "# l11-15 are approximations\n",
    "layers_1 = {\n",
    "    \"l1\": [(4, 64, 3, 3),       3.04739e+06, 1.9634e+06, 1.07833e+07, 510185 ],\n",
    "    \"l2\": [(64, 128, 3, 3),     3.41573e+06, 2.2435e+06, 6.47225e+07, 1.2642e+06],\n",
    "    \"l3\": [(128, 256, 3, 3),    894445, 554346, 6.23966e+07, 1.01824e+06],\n",
    "    \"l4\": [(256, 512, 3, 3),    285581, 135004, 5.86095e+07, 857113],\n",
    "    \"l5\": [(512, 512, 3, 3),    296114, 126744, 9.23053e+07, 1.38704e+06],\n",
    "    \"l6\": [(512, 512, 3, 3),    296114, 126210, 9.21882e+07, 1.38704e+06],\n",
    "    \"l7\": [(512, 512, 3, 3),    296114, 126210, 9.2209e+07, 1.38704e+06],\n",
    "    \"l8\": [(512, 512, 3, 3),    296114, 126210, 9.22997e+07, 1.38704e+06],\n",
    "    \"l9\": [(512, 128, 4, 4),    1.05717e+06, 597455, 1.84431e+08, 3.09337e+06],\n",
    "    \"l10\": [(416, 64, 4, 4),    3.86237e+06, 1.88454e+06, 3.36269e+08, 1.10614e+07],\n",
    "    \"l11\": [(224, 4, 4, 4),     1.05717e+06, 597455, 1.84431e+08, 3.09337e+06],\n",
    "    \"l12\": [(512, 32, 4, 4),    1.05717e+06/4, 597455/4, 1.84431e+08/4, 3.09337e+06/4],\n",
    "    \"l13\": [(416, 32, 4, 4),    1.05717e+06, 597455, 1.84431e+08, 3.09337e+06],\n",
    "    \"l14\": [(224, 32, 4, 4),     3.41573e+06, 2.2435e+06, 6.47225e+07, 1.2642e+06],\n",
    "    \"l15\": [(100, 32, 4, 4),     3.41573e+06, 2.2435e+06, 6.47225e+07, 1.2642e+06]\n",
    "}"
   ],
   "metadata": {
    "collapsed": false,
    "pycharm": {
     "name": "#%%\n"
    }
   }
  },
  {
   "cell_type": "code",
   "execution_count": 571,
   "outputs": [
    {
     "data": {
      "text/plain": "{'l1': 4.0,\n 'l2': 72.0,\n 'l3': 288.0,\n 'l4': 1152.0,\n 'l5': 2304.0,\n 'l6': 2304.0,\n 'l7': 2304.0,\n 'l8': 2304.0,\n 'l9': 1024.0,\n 'l10': 416.0,\n 'l11': 14.0,\n 'l12': 256.0,\n 'l13': 208.0,\n 'l14': 112.0,\n 'l15': 50.0}"
     },
     "execution_count": 571,
     "metadata": {},
     "output_type": "execute_result"
    }
   ],
   "source": [
    "PE_layer = {}\n",
    "for k in layers_1.keys():\n",
    "    size = layers_1[k][0]\n",
    "    PE_layer[k] = np.ceil(np.ceil(size[0]*size[2]*size[3]/array)*size[1]*bit_precision/array)\n",
    "PE_layer"
   ],
   "metadata": {
    "collapsed": false,
    "pycharm": {
     "name": "#%%\n"
    }
   }
  },
  {
   "cell_type": "code",
   "execution_count": 572,
   "outputs": [],
   "source": [
    "tile_layer = {\n",
    "    'l1': 1,\n",
    "    'l2': 2,\n",
    "    'l3': 6,\n",
    "    'l4': 20,\n",
    "    'l5': 36,\n",
    "    'l6': 36,\n",
    "    'l7': 36,\n",
    "    'l8': 36,\n",
    "    'l9': 16,\n",
    "    'l10': 26,\n",
    "    'l11': 2,\n",
    "    'l12': 16,\n",
    "    'l13': 16,\n",
    "    'l14': 6,\n",
    "    'l15': 6\n",
    "}"
   ],
   "metadata": {
    "collapsed": false,
    "pycharm": {
     "name": "#%%\n"
    }
   }
  },
  {
   "cell_type": "code",
   "execution_count": 573,
   "outputs": [
    {
     "data": {
      "text/plain": "261"
     },
     "execution_count": 573,
     "metadata": {},
     "output_type": "execute_result"
    }
   ],
   "source": [
    "tile_total = 0\n",
    "for k in tile_layer.keys():\n",
    "    tile_total += tile_layer[k]\n",
    "tile_total"
   ],
   "metadata": {
    "collapsed": false,
    "pycharm": {
     "name": "#%%\n"
    }
   }
  },
  {
   "cell_type": "markdown",
   "source": [
    "# Without Area constraint"
   ],
   "metadata": {
    "collapsed": false,
    "pycharm": {
     "name": "#%% md\n"
    }
   }
  },
  {
   "cell_type": "code",
   "execution_count": 574,
   "outputs": [],
   "source": [
    "labels = layers_1.keys()"
   ],
   "metadata": {
    "collapsed": false,
    "pycharm": {
     "name": "#%%\n"
    }
   }
  },
  {
   "cell_type": "code",
   "execution_count": 575,
   "outputs": [
    {
     "name": "stdout",
     "output_type": "stream",
     "text": [
      "1630628850.0 pJ ----- 6463120.0 ns\n"
     ]
    }
   ],
   "source": [
    "total_latency_1 = 0\n",
    "total_energy_1 = 0\n",
    "temp = 0\n",
    "for k in labels:\n",
    "    temp = layers_1[k][1]\n",
    "    if total_latency_1 < temp:\n",
    "        total_latency_1 += temp #+ layers[k][2]\n",
    "    total_energy_1 += layers_1[k][3] #+ layers[k][4]\n",
    "\n",
    "print(total_energy_1, \"pJ -----\", total_latency_1, \"ns\")"
   ],
   "metadata": {
    "collapsed": false,
    "pycharm": {
     "name": "#%%\n"
    }
   }
  },
  {
   "cell_type": "code",
   "execution_count": 576,
   "outputs": [
    {
     "data": {
      "text/plain": "154.72403421257843"
     },
     "execution_count": 576,
     "metadata": {},
     "output_type": "execute_result"
    }
   ],
   "source": [
    "FPS = 1e9/total_latency_1\n",
    "FPS"
   ],
   "metadata": {
    "collapsed": false,
    "pycharm": {
     "name": "#%%\n"
    }
   }
  },
  {
   "cell_type": "markdown",
   "source": [
    "# 5-bit ADC"
   ],
   "metadata": {
    "collapsed": false,
    "pycharm": {
     "name": "#%% md\n"
    }
   }
  },
  {
   "cell_type": "code",
   "execution_count": 577,
   "outputs": [],
   "source": [
    "ADC_area_per_tile_5 = 237006.6666666\n",
    "cim_per_tile_5 = 1677.6666666666667\n",
    "tile_area_5 = 2*ADC_area_per_tile_5 + cim_per_tile_5"
   ],
   "metadata": {
    "collapsed": false,
    "pycharm": {
     "name": "#%%\n"
    }
   }
  },
  {
   "cell_type": "code",
   "execution_count": 578,
   "outputs": [],
   "source": [
    "layers_5 = {\n",
    "    \"l1\": [(4, 64, 3, 3),       3.45462e+06, 2.18575e+06, 2.08663e+07, 588763 ],\n",
    "    \"l2\": [(64, 128, 3, 3),     3.89359e+06, 2.514e+06, 1.144e+08, 1.3803e+06],\n",
    "    \"l3\": [(128, 256, 3, 3),    1.03931e+06, 621231, 1.09864e+08, 1.10261e+06],\n",
    "    \"l4\": [(256, 512, 3, 3),    357389, 151314, 1.02943e+08, 922924],\n",
    "    \"l5\": [(512, 512, 3, 3),    374249, 141490, 1.62006e+08, 1.49026e+06],\n",
    "    \"l6\": [(512, 512, 3, 3),    374249, 141490, 1.61902e+08, 1.49026e+06],\n",
    "    \"l7\": [(512, 512, 3, 3),    374249, 141490, 1.61928e+08, 1.49026e+06],\n",
    "    \"l8\": [(512, 512, 3, 3),    374249, 141490, 1.61972e+08, 1.49026e+06],\n",
    "    \"l9\": [(512, 128, 4, 4),    1.35083e+06, 669988, 3.22431e+08, 3.2902e+06],\n",
    "    \"l10\": [(416, 64, 4, 4),    4.92819e+06, 2.11426e+06, 5.83293e+08, 1.1769e+07],\n",
    "    \"l11\": [(224, 4, 4, 4),     1.35083e+06, 669988, 3.22431e+08, 3.2902e+06],\n",
    "    \"l12\": [(512, 32, 4, 4),    1.35083e+06/4, 669988/4, 3.22431e+08/4, 3.2902e+06/4],\n",
    "    \"l13\": [(416, 32, 4, 4),    1.35083e+06, 597455, 1.84431e+08, 3.09337e+06],\n",
    "    \"l14\": [(224, 32, 4, 4),    3.89359e+06, 2.514e+06, 1.144e+08, 1.3803e+06],\n",
    "    \"l15\": [(100, 32, 4, 4),    3.89359e+06, 2.514e+06, 1.144e+08, 1.3803e+06]\n",
    "}"
   ],
   "metadata": {
    "collapsed": false,
    "pycharm": {
     "name": "#%%\n"
    }
   }
  },
  {
   "cell_type": "code",
   "execution_count": 579,
   "outputs": [],
   "source": [
    "labels = layers_5.keys()"
   ],
   "metadata": {
    "collapsed": false,
    "pycharm": {
     "name": "#%%\n"
    }
   }
  },
  {
   "cell_type": "code",
   "execution_count": 580,
   "outputs": [
    {
     "name": "stdout",
     "output_type": "stream",
     "text": [
      "2717875050.0 pJ ----- 7348210.0 ns\n"
     ]
    }
   ],
   "source": [
    "total_latency_5 = 0\n",
    "total_energy_5 = 0\n",
    "temp = 0\n",
    "for k in labels:\n",
    "    temp = layers_5[k][1]\n",
    "    if total_latency_5 < temp:\n",
    "        total_latency_5 += temp #+ layers[k][2]\n",
    "    total_energy_5 += layers_5[k][3] #+ layers[k][4]\n",
    "\n",
    "print(total_energy_5, \"pJ -----\", total_latency_5, \"ns\")"
   ],
   "metadata": {
    "collapsed": false,
    "pycharm": {
     "name": "#%%\n"
    }
   }
  },
  {
   "cell_type": "code",
   "execution_count": 581,
   "outputs": [
    {
     "data": {
      "text/plain": "136.08756418229746"
     },
     "execution_count": 581,
     "metadata": {},
     "output_type": "execute_result"
    }
   ],
   "source": [
    "FPS = 1e9/total_latency_5\n",
    "FPS"
   ],
   "metadata": {
    "collapsed": false,
    "pycharm": {
     "name": "#%%\n"
    }
   }
  },
  {
   "cell_type": "code",
   "execution_count": 582,
   "outputs": [
    {
     "data": {
      "text/plain": "12.044974218210966"
     },
     "execution_count": 582,
     "metadata": {},
     "output_type": "execute_result"
    }
   ],
   "source": [
    "(total_latency_5-total_latency_1)/total_latency_5*100"
   ],
   "metadata": {
    "collapsed": false,
    "pycharm": {
     "name": "#%%\n"
    }
   }
  },
  {
   "cell_type": "code",
   "execution_count": 583,
   "outputs": [
    {
     "data": {
      "text/plain": "40.003538794029545"
     },
     "execution_count": 583,
     "metadata": {},
     "output_type": "execute_result"
    }
   ],
   "source": [
    "(total_energy_5-total_energy_1)/total_energy_5*100"
   ],
   "metadata": {
    "collapsed": false,
    "pycharm": {
     "name": "#%%\n"
    }
   }
  },
  {
   "cell_type": "code",
   "execution_count": 584,
   "outputs": [
    {
     "data": {
      "text/plain": "48.339888709266695"
     },
     "execution_count": 584,
     "metadata": {},
     "output_type": "execute_result"
    }
   ],
   "source": [
    "(tile_area_5 - tile_area_1-ADC_area_per_tile_5)/tile_area_5*100"
   ],
   "metadata": {
    "collapsed": false,
    "pycharm": {
     "name": "#%%\n"
    }
   }
  },
  {
   "cell_type": "code",
   "execution_count": 615,
   "outputs": [
    {
     "data": {
      "text/plain": "13589375250.0"
     },
     "execution_count": 615,
     "metadata": {},
     "output_type": "execute_result"
    }
   ],
   "source": [
    "total_energy_5*5"
   ],
   "metadata": {
    "collapsed": false,
    "pycharm": {
     "name": "#%%\n"
    }
   }
  },
  {
   "cell_type": "code",
   "execution_count": 586,
   "outputs": [
    {
     "data": {
      "text/plain": "245742.49999993335"
     },
     "execution_count": 586,
     "metadata": {},
     "output_type": "execute_result"
    }
   ],
   "source": [
    "tile_area_1 + ADC_area_per_tile_5"
   ],
   "metadata": {
    "collapsed": false,
    "pycharm": {
     "name": "#%%\n"
    }
   }
  },
  {
   "cell_type": "markdown",
   "source": [
    "# Area Constraint"
   ],
   "metadata": {
    "collapsed": false,
    "pycharm": {
     "name": "#%% md\n"
    }
   }
  },
  {
   "cell_type": "code",
   "execution_count": 587,
   "outputs": [],
   "source": [
    "max_number_tiles_5 = 72\n",
    "max_number_tiles_1 = int(max_number_tiles_5*tile_area_5/(tile_area_1+ADC_area_per_tile_5))\n",
    "time_reloading = 3.86237e+06\n",
    "writing_energy = 0.1*9.22997e+07"
   ],
   "metadata": {
    "collapsed": false,
    "pycharm": {
     "name": "#%%\n"
    }
   }
  },
  {
   "cell_type": "code",
   "execution_count": 588,
   "outputs": [
    {
     "data": {
      "text/plain": "139"
     },
     "execution_count": 588,
     "metadata": {},
     "output_type": "execute_result"
    }
   ],
   "source": [
    "max_number_tiles_1"
   ],
   "metadata": {
    "collapsed": false,
    "pycharm": {
     "name": "#%%\n"
    }
   }
  },
  {
   "cell_type": "code",
   "execution_count": 589,
   "outputs": [
    {
     "name": "stdout",
     "output_type": "stream",
     "text": [
      "1639858820.0 pJ ----- 26819604.5 ns\n"
     ]
    }
   ],
   "source": [
    "total_latency_1_ac = 0\n",
    "total_energy_1_ac = 0\n",
    "acc_tile = 0\n",
    "for k in labels:\n",
    "    acc_tile += tile_layer[k]\n",
    "    if acc_tile < max_number_tiles_1:\n",
    "        total_latency_1_ac += layers_1[k][1] #+ layers_1[k][2]\n",
    "        total_energy_1_ac += layers_1[k][3] #+ layers_1[k][4]\n",
    "    else:\n",
    "        total_latency_1_ac += layers_1[k][1] + time_reloading #+ layers_1[k][2]\n",
    "        total_energy_1_ac += layers_1[k][3] + writing_energy #+ layers_1[k][4]\n",
    "        acc_tile = tile_layer[k]\n",
    "\n",
    "print(total_energy_1_ac, \"pJ -----\", total_latency_1_ac, \"ns\")"
   ],
   "metadata": {
    "collapsed": false,
    "pycharm": {
     "name": "#%%\n"
    }
   }
  },
  {
   "cell_type": "code",
   "execution_count": 590,
   "outputs": [
    {
     "data": {
      "text/plain": "37.28615759415841"
     },
     "execution_count": 590,
     "metadata": {},
     "output_type": "execute_result"
    }
   ],
   "source": [
    "FPS = 1e9/total_latency_1_ac\n",
    "FPS"
   ],
   "metadata": {
    "collapsed": false,
    "pycharm": {
     "name": "#%%\n"
    }
   }
  },
  {
   "cell_type": "code",
   "execution_count": 591,
   "outputs": [
    {
     "name": "stdout",
     "output_type": "stream",
     "text": [
      "2764024900.0 pJ ----- 46659322.5 ns\n"
     ]
    }
   ],
   "source": [
    "total_latency_5_ac = 0\n",
    "total_energy_5_ac = 0\n",
    "acc_tile = 0\n",
    "for k in labels:\n",
    "    acc_tile += tile_layer[k]\n",
    "    if acc_tile < max_number_tiles_5:\n",
    "        total_latency_5_ac += layers_5[k][1] #+ layers_5[k][2]\n",
    "        total_energy_5_ac += layers_5[k][3] #+ layers_5[k][4]\n",
    "    else:\n",
    "        total_latency_5_ac += layers_5[k][1] + time_reloading #+ layers_5[k][2]\n",
    "        total_energy_5_ac += layers_5[k][3] + writing_energy #+ layers_5[k][4]\n",
    "        acc_tile = tile_layer[k]\n",
    "\n",
    "print(total_energy_5_ac, \"pJ -----\", total_latency_5_ac, \"ns\")"
   ],
   "metadata": {
    "collapsed": false,
    "pycharm": {
     "name": "#%%\n"
    }
   }
  },
  {
   "cell_type": "code",
   "execution_count": 614,
   "outputs": [
    {
     "data": {
      "text/plain": "13820124500.0"
     },
     "execution_count": 614,
     "metadata": {},
     "output_type": "execute_result"
    }
   ],
   "source": [
    "total_energy_5_ac*5"
   ],
   "metadata": {
    "collapsed": false,
    "pycharm": {
     "name": "#%%\n"
    }
   }
  },
  {
   "cell_type": "code",
   "execution_count": 592,
   "outputs": [
    {
     "data": {
      "text/plain": "136.08756418229746"
     },
     "execution_count": 592,
     "metadata": {},
     "output_type": "execute_result"
    }
   ],
   "source": [
    "FPS = 1e9/total_latency_5\n",
    "FPS"
   ],
   "metadata": {
    "collapsed": false,
    "pycharm": {
     "name": "#%%\n"
    }
   }
  },
  {
   "cell_type": "code",
   "execution_count": 593,
   "outputs": [
    {
     "data": {
      "text/plain": "42.52037307228368"
     },
     "execution_count": 593,
     "metadata": {},
     "output_type": "execute_result"
    }
   ],
   "source": [
    "(total_latency_5_ac-total_latency_1_ac)/total_latency_5_ac*100"
   ],
   "metadata": {
    "collapsed": false,
    "pycharm": {
     "name": "#%%\n"
    }
   }
  },
  {
   "cell_type": "code",
   "execution_count": 594,
   "outputs": [
    {
     "data": {
      "text/plain": "40.671344169149855"
     },
     "execution_count": 594,
     "metadata": {},
     "output_type": "execute_result"
    }
   ],
   "source": [
    "(total_energy_5_ac-total_energy_1_ac)/total_energy_5_ac*100"
   ],
   "metadata": {
    "collapsed": false,
    "pycharm": {
     "name": "#%%\n"
    }
   }
  },
  {
   "cell_type": "code",
   "execution_count": 595,
   "outputs": [
    {
     "data": {
      "text/plain": "48.339888709266695"
     },
     "execution_count": 595,
     "metadata": {},
     "output_type": "execute_result"
    }
   ],
   "source": [
    "(tile_area_5 - tile_area_1-ADC_area_per_tile_5)/tile_area_5*100"
   ],
   "metadata": {
    "collapsed": false,
    "pycharm": {
     "name": "#%%\n"
    }
   }
  },
  {
   "cell_type": "markdown",
   "source": [
    "# SAR ADC"
   ],
   "metadata": {
    "collapsed": false,
    "pycharm": {
     "name": "#%% md\n"
    }
   }
  },
  {
   "cell_type": "code",
   "execution_count": 596,
   "outputs": [],
   "source": [
    "layers_5_sar = {\n",
    "    \"l1\": [(4, 64, 3, 3),       1.41201e+07, 0, 3.61954e+07, 0],\n",
    "    \"l2\": [(64, 128, 3, 3),     1.59143e+07, 0, 2.63759e+08, 0],\n",
    "    \"l3\": [(128, 256, 3, 3),    4.248e+06, 0, 2.5422e+08, 0],\n",
    "    \"l4\": [(256, 512, 3, 3),    1.43679e+06, 0, 2.38276e+08, 0],\n",
    "    \"l5\": [(512, 512, 3, 3),    1.48901e+06, 0, 3.74115e+08, 0],\n",
    "    \"l6\": [(512, 512, 3, 3),    1.48901e+06, 0, 3.74509e+08, 0],\n",
    "    \"l7\": [(512, 512, 3, 3),    1.48901e+06, 0, 3.74624e+08, 0],\n",
    "    \"l8\": [(512, 512, 3, 3),    1.48901e+06, 0, 3.74445e+08, 0],\n",
    "    \"l9\": [(512, 128, 4, 4),    5.21829e+06, 0, 7.25436e+08, 0],\n",
    "    \"l10\": [(416, 64, 4, 4),    1.7968e+07, 0, 1.30878e+09, 0],\n",
    "    \"l11\": [(224, 4, 4, 4),     5.21829e+06, 0, 7.25436e+08, 0],\n",
    "    \"l12\": [(512, 32, 4, 4),    5.21829e+06/4, 0, 7.25436e+08/4, 0],\n",
    "    \"l13\": [(416, 32, 4, 4),    5.21829e+06, 0, 7.25436e+08, 0],\n",
    "    \"l14\": [(224, 32, 4, 4),    1.59143e+07, 0, 2.63759e+08, 0],\n",
    "    \"l15\": [(100, 32, 4, 4),    1.59143e+07, 0, 2.63759e+08, 0]\n",
    "}"
   ],
   "metadata": {
    "collapsed": false,
    "pycharm": {
     "name": "#%%\n"
    }
   }
  },
  {
   "cell_type": "code",
   "execution_count": 597,
   "outputs": [
    {
     "name": "stdout",
     "output_type": "stream",
     "text": [
      "6484108400.0 pJ ----- 30034400.0 ns\n"
     ]
    }
   ],
   "source": [
    "total_latency_5_sar = 0\n",
    "total_energy_5_sar = 0\n",
    "temp = 0\n",
    "for k in labels:\n",
    "    temp = layers_5_sar[k][1]\n",
    "    if total_latency_5_sar < temp:\n",
    "        total_latency_5_sar += temp #+ layers[k][2]\n",
    "    total_energy_5_sar += layers_5_sar[k][3] #+ layers[k][4]\n",
    "\n",
    "print(total_energy_5_sar, \"pJ -----\", total_latency_5_sar, \"ns\")"
   ],
   "metadata": {
    "collapsed": false,
    "pycharm": {
     "name": "#%%\n"
    }
   }
  },
  {
   "cell_type": "code",
   "execution_count": 598,
   "outputs": [],
   "source": [
    "ADC_area_per_tile_5_sar = 134551.62\n",
    "cim_per_tile_5_sar = 1677.6666666666667\n",
    "tile_area_5_sar = ADC_area_per_tile_5_sar + cim_per_tile_5_sar + ADC_area_per_tile_5"
   ],
   "metadata": {
    "collapsed": false,
    "pycharm": {
     "name": "#%%\n"
    }
   }
  },
  {
   "cell_type": "markdown",
   "source": [
    "# 1BIT Parallel"
   ],
   "metadata": {
    "collapsed": false,
    "pycharm": {
     "name": "#%% md\n"
    }
   }
  },
  {
   "cell_type": "code",
   "execution_count": 599,
   "outputs": [],
   "source": [
    "layers_1_par = {\n",
    "    \"l1\": [(4, 64, 3, 3),       3.45462e+06, 2.18575e+06, 2.08663e+07, 588763 ], #1.13823e+06, 0, 7.25648e+06, 0],\n",
    "    \"l2\": [(64, 128, 3, 3),     1.70555e+06, 0, 4.67675e+07, 0],\n",
    "    \"l3\": [(128, 256, 3, 3),    433900, 0, 4.4683e+07, 0],\n",
    "    \"l4\": [(256, 512, 3, 3),    117777, 0, 4.19857e+07, 0],\n",
    "    \"l5\": [(512, 512, 3, 3),    118315, 0, 6.64092e+07, 0],\n",
    "    \"l6\": [(512, 512, 3, 3),    118315, 0, 6.64471e+07, 0],\n",
    "    \"l7\": [(512, 512, 3, 3),    118315, 0, 6.63724e+07, 0],\n",
    "    \"l8\": [(512, 512, 3, 3),    118315, 0, 6.64308e+07, 0],\n",
    "    \"l9\": [(512, 128, 4, 4),    559051, 0, 1.44322e+08, 0],\n",
    "    \"l10\": [(416, 64, 4, 4),    1.85593e+06, 0, 2.65576e+08, 0],\n",
    "    \"l11\": [(224, 4, 4, 4),     559051, 0, 1.44322e+08, 0],\n",
    "    \"l12\": [(512, 32, 4, 4),    559051/4, 0, 1.44322e+08/4, 0],\n",
    "    \"l13\": [(416, 32, 4, 4),    559051, 0, 1.44322e+08, 0],\n",
    "    \"l14\": [(224, 32, 4, 4),    1.70555e+06, 0, 4.67675e+07, 0],\n",
    "    \"l15\": [(100, 32, 4, 4),    1.70555e+06, 0, 4.67675e+07, 0]\n",
    "}"
   ],
   "metadata": {
    "collapsed": false,
    "pycharm": {
     "name": "#%%\n"
    }
   }
  },
  {
   "cell_type": "code",
   "execution_count": 600,
   "outputs": [
    {
     "name": "stdout",
     "output_type": "stream",
     "text": [
      "1248119500.0 pJ ----- 3454620.0 ns\n"
     ]
    }
   ],
   "source": [
    "total_latency_1_par = 0\n",
    "total_energy_1_par = 0\n",
    "temp = 0\n",
    "for k in labels:\n",
    "    # if k == \"l1\":\n",
    "    #     temp = layers_1_par[k][1]*5\n",
    "    # else:\n",
    "    temp = layers_1_par[k][1]\n",
    "    if total_latency_1_par < temp:\n",
    "        total_latency_1_par += temp #+ layers[k][2]\n",
    "    total_energy_1_par += layers_1_par[k][3] #+ layers[k][4]\n",
    "\n",
    "print(total_energy_1_par, \"pJ -----\", total_latency_1_par, \"ns\")"
   ],
   "metadata": {
    "collapsed": false,
    "pycharm": {
     "name": "#%%\n"
    }
   }
  },
  {
   "cell_type": "code",
   "execution_count": 612,
   "outputs": [
    {
     "data": {
      "text/plain": "6240597500.0"
     },
     "execution_count": 612,
     "metadata": {},
     "output_type": "execute_result"
    }
   ],
   "source": [
    "total_energy_1_par*5"
   ],
   "metadata": {
    "collapsed": false,
    "pycharm": {
     "name": "#%%\n"
    }
   }
  },
  {
   "cell_type": "code",
   "execution_count": 613,
   "outputs": [
    {
     "data": {
      "text/plain": "17273100.0"
     },
     "execution_count": 613,
     "metadata": {},
     "output_type": "execute_result"
    }
   ],
   "source": [
    "total_latency_1_par*5"
   ],
   "metadata": {
    "collapsed": false,
    "pycharm": {
     "name": "#%%\n"
    }
   }
  },
  {
   "cell_type": "code",
   "execution_count": 601,
   "outputs": [
    {
     "name": "stdout",
     "output_type": "stream",
     "text": [
      "FPS:  289.467437807921\n"
     ]
    }
   ],
   "source": [
    "print(\"FPS: \", 1e9/total_latency_1_par)"
   ],
   "metadata": {
    "collapsed": false,
    "pycharm": {
     "name": "#%%\n"
    }
   }
  },
  {
   "cell_type": "code",
   "execution_count": 602,
   "outputs": [],
   "source": [
    "ADC_area_per_tile_1_par = 55584.588\n",
    "cim_per_tile_1_par = 1677.6666666666667\n",
    "tile_area_1_par = ADC_area_per_tile_1_par + cim_per_tile_1_par + ADC_area_per_tile_5"
   ],
   "metadata": {
    "collapsed": false,
    "pycharm": {
     "name": "#%%\n"
    }
   }
  },
  {
   "cell_type": "code",
   "execution_count": 610,
   "outputs": [
    {
     "data": {
      "text/plain": "294268.92133326665"
     },
     "execution_count": 610,
     "metadata": {},
     "output_type": "execute_result"
    }
   ],
   "source": [
    "tile_area_1_par"
   ],
   "metadata": {
    "collapsed": false,
    "pycharm": {
     "name": "#%%\n"
    }
   }
  },
  {
   "cell_type": "code",
   "execution_count": 603,
   "outputs": [
    {
     "data": {
      "text/plain": "-396119170.0"
     },
     "execution_count": 603,
     "metadata": {},
     "output_type": "execute_result"
    }
   ],
   "source": [
    "1234509680 - 1630628850.0"
   ],
   "metadata": {
    "collapsed": false,
    "pycharm": {
     "name": "#%%\n"
    }
   }
  },
  {
   "cell_type": "code",
   "execution_count": 604,
   "outputs": [
    {
     "data": {
      "text/plain": "294268.92133326665"
     },
     "execution_count": 604,
     "metadata": {},
     "output_type": "execute_result"
    }
   ],
   "source": [
    "tile_area_1_par"
   ],
   "metadata": {
    "collapsed": false,
    "pycharm": {
     "name": "#%%\n"
    }
   }
  },
  {
   "cell_type": "code",
   "execution_count": 605,
   "outputs": [
    {
     "data": {
      "text/plain": "52.986917902455154"
     },
     "execution_count": 605,
     "metadata": {},
     "output_type": "execute_result"
    }
   ],
   "source": [
    "(total_latency_5 - total_latency_1_par)/total_latency_5*100"
   ],
   "metadata": {
    "collapsed": false,
    "pycharm": {
     "name": "#%%\n"
    }
   }
  },
  {
   "cell_type": "code",
   "execution_count": 606,
   "outputs": [
    {
     "data": {
      "text/plain": "54.07737747178628"
     },
     "execution_count": 606,
     "metadata": {},
     "output_type": "execute_result"
    }
   ],
   "source": [
    "(total_energy_5 - total_energy_1_par)/total_energy_5*100"
   ],
   "metadata": {
    "collapsed": false,
    "pycharm": {
     "name": "#%%\n"
    }
   }
  },
  {
   "cell_type": "markdown",
   "source": [
    "# Area constraint 1 Par"
   ],
   "metadata": {
    "collapsed": false,
    "pycharm": {
     "name": "#%% md\n"
    }
   }
  },
  {
   "cell_type": "code",
   "execution_count": 607,
   "outputs": [
    {
     "data": {
      "text/plain": "116"
     },
     "execution_count": 607,
     "metadata": {},
     "output_type": "execute_result"
    }
   ],
   "source": [
    "max_number_tiles_5 = 72\n",
    "max_number_tiles_1_par = int(max_number_tiles_5*tile_area_5/tile_area_1_par)\n",
    "time_reloading = 3.86237e+06\n",
    "writing_energy = 0.1*9.22997e+07\n",
    "max_number_tiles_1_par"
   ],
   "metadata": {
    "collapsed": false,
    "pycharm": {
     "name": "#%%\n"
    }
   }
  },
  {
   "cell_type": "code",
   "execution_count": 608,
   "outputs": [
    {
     "name": "stdout",
     "output_type": "stream",
     "text": [
      "1266579440.0 pJ ----- 20993792.75 ns\n"
     ]
    }
   ],
   "source": [
    "total_latency_1_par_ac = 0\n",
    "total_energy_1_par_ac = 0\n",
    "acc_tile = 0\n",
    "for k in labels:\n",
    "    acc_tile += tile_layer[k]\n",
    "    if acc_tile < max_number_tiles_1_par:\n",
    "        total_latency_1_par_ac += layers_1_par[k][1] #+ layers_1_par[k][2]\n",
    "        total_energy_1_par_ac += layers_1_par[k][3] #+ layers_1_par[k][4]\n",
    "    else:\n",
    "        total_latency_1_par_ac += layers_1_par[k][1] + time_reloading #+ layers_1_par[k][2]\n",
    "        total_energy_1_par_ac += layers_1_par[k][3] + writing_energy #+ layers_1_par[k][4]\n",
    "        acc_tile = tile_layer[k]\n",
    "\n",
    "print(total_energy_1_par_ac, \"pJ -----\", total_latency_1_par_ac, \"ns\")"
   ],
   "metadata": {
    "collapsed": false,
    "pycharm": {
     "name": "#%%\n"
    }
   }
  },
  {
   "cell_type": "code",
   "execution_count": 609,
   "outputs": [
    {
     "data": {
      "text/plain": "0.5417626519934752"
     },
     "execution_count": 609,
     "metadata": {},
     "output_type": "execute_result"
    }
   ],
   "source": [
    "(total_energy_5_ac - total_energy_1_par_ac)/total_energy_5_ac"
   ],
   "metadata": {
    "collapsed": false,
    "pycharm": {
     "name": "#%%\n"
    }
   }
  },
  {
   "cell_type": "code",
   "execution_count": 611,
   "outputs": [
    {
     "data": {
      "text/plain": "6332897200.0"
     },
     "execution_count": 611,
     "metadata": {},
     "output_type": "execute_result"
    }
   ],
   "source": [
    "total_energy_1_par_ac*5"
   ],
   "metadata": {
    "collapsed": false,
    "pycharm": {
     "name": "#%%\n"
    }
   }
  },
  {
   "cell_type": "markdown",
   "source": [
    "# FireFlowNet"
   ],
   "metadata": {
    "collapsed": false,
    "pycharm": {
     "name": "#%% md\n"
    }
   }
  },
  {
   "cell_type": "code",
   "execution_count": 635,
   "outputs": [],
   "source": [
    "layers_1_ffn = {\n",
    "    \"l1\": [(4, 32, 3, 3),   0.7*1.38185e+07, 0, 8.34863e+07/2, 0], #4.55291e+06, 0, 2.90277e+07/2, 0 ],\n",
    "    \"l2\": [(32, 32, 3, 3),  0.7*1.45154e+07, 0, 2.04862e+08/2, 0 ],\n",
    "    \"l3\": [(32, 32, 3, 3),  0.7*1.45154e+07, 0, 2.04862e+08/2, 0 ],\n",
    "    \"l4\": [(32, 32, 3, 3),  0.7*1.45154e+07, 0, 2.04862e+08/2, 0 ],\n",
    "    \"l5\": [(32, 32, 3, 3),  0.7*1.45154e+07, 0, 2.04862e+08/2, 0 ],\n",
    "    \"l6\": [(32, 32, 3, 3),  0.7*1.45154e+07, 0, 2.04862e+08/2, 0 ],\n",
    "    \"l7\": [(32, 32, 3, 3),  0.7*1.45154e+07, 0, 2.04862e+08/2, 0 ]\n",
    "}"
   ],
   "metadata": {
    "collapsed": false,
    "pycharm": {
     "name": "#%%\n"
    }
   }
  },
  {
   "cell_type": "code",
   "execution_count": 636,
   "outputs": [
    {
     "name": "stdout",
     "output_type": "stream",
     "text": [
      "3.28164575 mJ ----- 99.16865 ms\n"
     ]
    }
   ],
   "source": [
    "total_latency_1_ffn = 0\n",
    "total_energy_1_ffn = 0\n",
    "temp = 0\n",
    "for k in layers_1_ffn.keys():\n",
    "    temp = layers_1_ffn[k][1]\n",
    "    if total_latency_1_ffn < temp:\n",
    "        total_latency_1_ffn += temp #+ layers[k][2]\n",
    "    total_energy_1_ffn += layers_1_ffn[k][3] #+ layers[k][4]\n",
    "\n",
    "print(5*total_energy_1_ffn/1e9, \"mJ -----\", 5*total_latency_1_ffn/1e6, \"ms\")"
   ],
   "metadata": {
    "collapsed": false,
    "pycharm": {
     "name": "#%%\n"
    }
   }
  },
  {
   "cell_type": "code",
   "execution_count": 637,
   "outputs": [
    {
     "name": "stdout",
     "output_type": "stream",
     "text": [
      "3.28164575 mJ ----- 353.18815 ms\n"
     ]
    }
   ],
   "source": [
    "total_latency_1_ffn_seq = 0\n",
    "total_energy_1_ffn_seq = 0\n",
    "temp = 0\n",
    "for k in layers_1_ffn.keys():\n",
    "\n",
    "    total_latency_1_ffn_seq += layers_1_ffn[k][1] #+ layers[k][2]\n",
    "    total_energy_1_ffn_seq += layers_1_ffn[k][3] #+ layers[k][4]\n",
    "\n",
    "print(5*total_energy_1_ffn_seq/1e9, \"mJ -----\", 5*total_latency_1_ffn_seq/1e6, \"ms\")"
   ],
   "metadata": {
    "collapsed": false,
    "pycharm": {
     "name": "#%%\n"
    }
   }
  },
  {
   "cell_type": "markdown",
   "source": [
    "# ADC5"
   ],
   "metadata": {
    "collapsed": false,
    "pycharm": {
     "name": "#%% md\n"
    }
   }
  },
  {
   "cell_type": "code",
   "execution_count": 638,
   "outputs": [],
   "source": [
    "layers_5_ffn = {\n",
    "    \"l1\": [(4, 32, 3, 3),   0.7*1.38185e+07, 0, 8.34863e+07/2, 0],\n",
    "    \"l2\": [(32, 32, 3, 3),  0.7*3.99461e+07, 0, 5.3124e+08/2, 0 ],\n",
    "    \"l3\": [(32, 32, 3, 3),  0.7*3.99461e+07, 0, 5.3124e+08/2, 0 ],\n",
    "    \"l4\": [(32, 32, 3, 3),  0.7*3.99461e+07, 0, 5.3124e+08/2, 0 ],\n",
    "    \"l5\": [(32, 32, 3, 3),  0.7*3.99461e+07, 0, 5.3124e+08/2, 0 ],\n",
    "    \"l6\": [(32, 32, 3, 3),  0.7*3.99461e+07, 0, 5.3124e+08/2, 0 ],\n",
    "    \"l7\": [(32, 32, 3, 3),  0.7*3.99461e+07, 0, 5.3124e+08/2, 0 ]\n",
    "}"
   ],
   "metadata": {
    "collapsed": false,
    "pycharm": {
     "name": "#%%\n"
    }
   }
  },
  {
   "cell_type": "code",
   "execution_count": 639,
   "outputs": [
    {
     "name": "stdout",
     "output_type": "stream",
     "text": [
      "8.17731575 mJ ----- 188.1761 ms\n"
     ]
    }
   ],
   "source": [
    "total_latency_5_ffn = 0\n",
    "total_energy_5_ffn = 0\n",
    "temp = 0\n",
    "for k in layers_5_ffn.keys():\n",
    "    temp = layers_5_ffn[k][1]\n",
    "    if total_latency_5_ffn < temp:\n",
    "        total_latency_5_ffn += temp #+ layers[k][2]\n",
    "    total_energy_5_ffn += layers_5_ffn[k][3] #+ layers[k][4]\n",
    "\n",
    "print(5*total_energy_5_ffn/1e9, \"mJ -----\", 5*total_latency_5_ffn/1e6, \"ms\")"
   ],
   "metadata": {
    "collapsed": false,
    "pycharm": {
     "name": "#%%\n"
    }
   }
  },
  {
   "cell_type": "code",
   "execution_count": null,
   "outputs": [],
   "source": [],
   "metadata": {
    "collapsed": false,
    "pycharm": {
     "name": "#%%\n"
    }
   }
  }
 ],
 "metadata": {
  "kernelspec": {
   "display_name": "Python 3",
   "language": "python",
   "name": "python3"
  },
  "language_info": {
   "codemirror_mode": {
    "name": "ipython",
    "version": 2
   },
   "file_extension": ".py",
   "mimetype": "text/x-python",
   "name": "python",
   "nbconvert_exporter": "python",
   "pygments_lexer": "ipython2",
   "version": "2.7.6"
  }
 },
 "nbformat": 4,
 "nbformat_minor": 0
}