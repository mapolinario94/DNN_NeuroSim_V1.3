{
 "cells": [
  {
   "cell_type": "code",
   "execution_count": 313,
   "metadata": {
    "collapsed": true
   },
   "outputs": [],
   "source": [
    "import numpy as np"
   ]
  },
  {
   "cell_type": "code",
   "execution_count": 314,
   "outputs": [],
   "source": [
    "bit_precision = 4\n",
    "bit_per_cell = 1\n",
    "array = 64"
   ],
   "metadata": {
    "collapsed": false,
    "pycharm": {
     "name": "#%%\n"
    }
   }
  },
  {
   "cell_type": "markdown",
   "source": [
    "# 1-bit ADC"
   ],
   "metadata": {
    "collapsed": false
   }
  },
  {
   "cell_type": "code",
   "execution_count": 315,
   "outputs": [],
   "source": [
    "ADC_area_per_tile = 7058.166666666667\n",
    "cim_per_tile = 1677.6666666666667\n",
    "tile_area_1 = ADC_area_per_tile + cim_per_tile"
   ],
   "metadata": {
    "collapsed": false,
    "pycharm": {
     "name": "#%%\n"
    }
   }
  },
  {
   "cell_type": "code",
   "execution_count": 316,
   "outputs": [],
   "source": [
    "# Measurements for 1-bit ADC (latency in ns and energy in pJ)\n",
    "# (in_ch, out_ch, k, k), read_latency, buffer_latency, read_energy, buffer_energy\n",
    "# l11-15 are approximations\n",
    "layers_1 = {\n",
    "    \"l1\": [(4, 64, 3, 3),       3.04739e+06, 1.9634e+06, 1.07833e+07, 510185 ],\n",
    "    \"l2\": [(64, 128, 3, 3),     3.41573e+06, 2.2435e+06, 6.47225e+07, 1.2642e+06],\n",
    "    \"l3\": [(128, 256, 3, 3),    894445, 554346, 6.23966e+07, 1.01824e+06],\n",
    "    \"l4\": [(256, 512, 3, 3),    285581, 135004, 5.86095e+07, 857113],\n",
    "    \"l5\": [(512, 512, 3, 3),    296114, 126744, 9.23053e+07, 1.38704e+06],\n",
    "    \"l6\": [(512, 512, 3, 3),    296114, 126210, 9.21882e+07, 1.38704e+06],\n",
    "    \"l7\": [(512, 512, 3, 3),    296114, 126210, 9.2209e+07, 1.38704e+06],\n",
    "    \"l8\": [(512, 512, 3, 3),    296114, 126210, 9.22997e+07, 1.38704e+06],\n",
    "    \"l9\": [(512, 128, 4, 4),    1.05717e+06, 597455, 1.84431e+08, 3.09337e+06],\n",
    "    \"l10\": [(416, 64, 4, 4),    3.86237e+06, 1.88454e+06, 3.36269e+08, 1.10614e+07],\n",
    "    \"l11\": [(224, 4, 4, 4),     1.05717e+06, 597455, 1.84431e+08, 3.09337e+06],\n",
    "    \"l12\": [(512, 32, 4, 4),    1.05717e+06/4, 597455/4, 1.84431e+08/4, 3.09337e+06/4],\n",
    "    \"l13\": [(416, 32, 4, 4),    1.05717e+06, 597455, 1.84431e+08, 3.09337e+06],\n",
    "    \"l14\": [(224, 32, 4, 4),     3.41573e+06, 2.2435e+06, 6.47225e+07, 1.2642e+06],\n",
    "    \"l15\": [(100, 32, 4, 4),     3.41573e+06, 2.2435e+06, 6.47225e+07, 1.2642e+06]\n",
    "}"
   ],
   "metadata": {
    "collapsed": false,
    "pycharm": {
     "name": "#%%\n"
    }
   }
  },
  {
   "cell_type": "code",
   "execution_count": 317,
   "outputs": [
    {
     "data": {
      "text/plain": "{'l1': 4.0,\n 'l2': 72.0,\n 'l3': 288.0,\n 'l4': 1152.0,\n 'l5': 2304.0,\n 'l6': 2304.0,\n 'l7': 2304.0,\n 'l8': 2304.0,\n 'l9': 1024.0,\n 'l10': 416.0,\n 'l11': 14.0,\n 'l12': 256.0,\n 'l13': 208.0,\n 'l14': 112.0,\n 'l15': 50.0}"
     },
     "execution_count": 317,
     "metadata": {},
     "output_type": "execute_result"
    }
   ],
   "source": [
    "PE_layer = {}\n",
    "for k in layers_1.keys():\n",
    "    size = layers_1[k][0]\n",
    "    PE_layer[k] = np.ceil(np.ceil(size[0]*size[2]*size[3]/array)*size[1]*bit_precision/array)\n",
    "PE_layer"
   ],
   "metadata": {
    "collapsed": false,
    "pycharm": {
     "name": "#%%\n"
    }
   }
  },
  {
   "cell_type": "code",
   "execution_count": 318,
   "outputs": [],
   "source": [
    "tile_layer = {\n",
    "    'l1': 1,\n",
    "    'l2': 2,\n",
    "    'l3': 6,\n",
    "    'l4': 20,\n",
    "    'l5': 36,\n",
    "    'l6': 36,\n",
    "    'l7': 36,\n",
    "    'l8': 36,\n",
    "    'l9': 16,\n",
    "    'l10': 26,\n",
    "    'l11': 2,\n",
    "    'l12': 16,\n",
    "    'l13': 16,\n",
    "    'l14': 6,\n",
    "    'l15': 6\n",
    "}"
   ],
   "metadata": {
    "collapsed": false,
    "pycharm": {
     "name": "#%%\n"
    }
   }
  },
  {
   "cell_type": "code",
   "execution_count": 319,
   "outputs": [
    {
     "data": {
      "text/plain": "261"
     },
     "execution_count": 319,
     "metadata": {},
     "output_type": "execute_result"
    }
   ],
   "source": [
    "tile_total = 0\n",
    "for k in tile_layer.keys():\n",
    "    tile_total += tile_layer[k]\n",
    "tile_total"
   ],
   "metadata": {
    "collapsed": false,
    "pycharm": {
     "name": "#%%\n"
    }
   }
  },
  {
   "cell_type": "markdown",
   "source": [
    "# Without Area constraint"
   ],
   "metadata": {
    "collapsed": false
   }
  },
  {
   "cell_type": "code",
   "execution_count": 320,
   "outputs": [],
   "source": [
    "labels = layers_1.keys()"
   ],
   "metadata": {
    "collapsed": false,
    "pycharm": {
     "name": "#%%\n"
    }
   }
  },
  {
   "cell_type": "code",
   "execution_count": 321,
   "outputs": [
    {
     "name": "stdout",
     "output_type": "stream",
     "text": [
      "1630628850.0 pJ ----- 6463120.0 ns\n"
     ]
    }
   ],
   "source": [
    "total_latency_1 = 0\n",
    "total_energy_1 = 0\n",
    "temp = 0\n",
    "for k in labels:\n",
    "    temp = layers_1[k][1]\n",
    "    if total_latency_1 < temp:\n",
    "        total_latency_1 += temp #+ layers[k][2]\n",
    "    total_energy_1 += layers_1[k][3] #+ layers[k][4]\n",
    "\n",
    "print(total_energy_1, \"pJ -----\", total_latency_1, \"ns\")"
   ],
   "metadata": {
    "collapsed": false,
    "pycharm": {
     "name": "#%%\n"
    }
   }
  },
  {
   "cell_type": "code",
   "execution_count": 322,
   "outputs": [
    {
     "data": {
      "text/plain": "154.72403421257843"
     },
     "execution_count": 322,
     "metadata": {},
     "output_type": "execute_result"
    }
   ],
   "source": [
    "FPS = 1e9/total_latency_1\n",
    "FPS"
   ],
   "metadata": {
    "collapsed": false,
    "pycharm": {
     "name": "#%%\n"
    }
   }
  },
  {
   "cell_type": "markdown",
   "source": [
    "# 5-bit ADC"
   ],
   "metadata": {
    "collapsed": false
   }
  },
  {
   "cell_type": "code",
   "execution_count": 323,
   "outputs": [],
   "source": [
    "ADC_area_per_tile_5 = 237006.6666666\n",
    "cim_per_tile_5 = 1677.6666666666667\n",
    "tile_area_5 = 2*ADC_area_per_tile_5 + cim_per_tile_5"
   ],
   "metadata": {
    "collapsed": false,
    "pycharm": {
     "name": "#%%\n"
    }
   }
  },
  {
   "cell_type": "code",
   "execution_count": 324,
   "outputs": [],
   "source": [
    "layers_5 = {\n",
    "    \"l1\": [(4, 64, 3, 3),       3.45462e+06, 2.18575e+06, 2.08663e+07, 588763 ],\n",
    "    \"l2\": [(64, 128, 3, 3),     3.89359e+06, 2.514e+06, 1.144e+08, 1.3803e+06],\n",
    "    \"l3\": [(128, 256, 3, 3),    1.03931e+06, 621231, 1.09864e+08, 1.10261e+06],\n",
    "    \"l4\": [(256, 512, 3, 3),    357389, 151314, 1.02943e+08, 922924],\n",
    "    \"l5\": [(512, 512, 3, 3),    374249, 141490, 1.62006e+08, 1.49026e+06],\n",
    "    \"l6\": [(512, 512, 3, 3),    374249, 141490, 1.61902e+08, 1.49026e+06],\n",
    "    \"l7\": [(512, 512, 3, 3),    374249, 141490, 1.61928e+08, 1.49026e+06],\n",
    "    \"l8\": [(512, 512, 3, 3),    374249, 141490, 1.61972e+08, 1.49026e+06],\n",
    "    \"l9\": [(512, 128, 4, 4),    1.35083e+06, 669988, 3.22431e+08, 3.2902e+06],\n",
    "    \"l10\": [(416, 64, 4, 4),    4.92819e+06, 2.11426e+06, 5.83293e+08, 1.1769e+07],\n",
    "    \"l11\": [(224, 4, 4, 4),     1.35083e+06, 669988, 3.22431e+08, 3.2902e+06],\n",
    "    \"l12\": [(512, 32, 4, 4),    1.35083e+06/4, 669988/4, 3.22431e+08/4, 3.2902e+06/4],\n",
    "    \"l13\": [(416, 32, 4, 4),    1.35083e+06, 597455, 1.84431e+08, 3.09337e+06],\n",
    "    \"l14\": [(224, 32, 4, 4),    3.89359e+06, 2.514e+06, 1.144e+08, 1.3803e+06],\n",
    "    \"l15\": [(100, 32, 4, 4),    3.89359e+06, 2.514e+06, 1.144e+08, 1.3803e+06]\n",
    "}"
   ],
   "metadata": {
    "collapsed": false,
    "pycharm": {
     "name": "#%%\n"
    }
   }
  },
  {
   "cell_type": "code",
   "execution_count": 325,
   "outputs": [],
   "source": [
    "labels = layers_5.keys()"
   ],
   "metadata": {
    "collapsed": false,
    "pycharm": {
     "name": "#%%\n"
    }
   }
  },
  {
   "cell_type": "code",
   "execution_count": 326,
   "outputs": [
    {
     "name": "stdout",
     "output_type": "stream",
     "text": [
      "2717875050.0 pJ ----- 7348210.0 ns\n"
     ]
    }
   ],
   "source": [
    "total_latency_5 = 0\n",
    "total_energy_5 = 0\n",
    "temp = 0\n",
    "for k in labels:\n",
    "    temp = layers_5[k][1]\n",
    "    if total_latency_5 < temp:\n",
    "        total_latency_5 += temp #+ layers[k][2]\n",
    "    total_energy_5 += layers_5[k][3] #+ layers[k][4]\n",
    "\n",
    "print(total_energy_5, \"pJ -----\", total_latency_5, \"ns\")"
   ],
   "metadata": {
    "collapsed": false,
    "pycharm": {
     "name": "#%%\n"
    }
   }
  },
  {
   "cell_type": "code",
   "execution_count": 327,
   "outputs": [
    {
     "data": {
      "text/plain": "136.08756418229746"
     },
     "execution_count": 327,
     "metadata": {},
     "output_type": "execute_result"
    }
   ],
   "source": [
    "FPS = 1e9/total_latency_5\n",
    "FPS"
   ],
   "metadata": {
    "collapsed": false,
    "pycharm": {
     "name": "#%%\n"
    }
   }
  },
  {
   "cell_type": "code",
   "execution_count": 328,
   "outputs": [
    {
     "data": {
      "text/plain": "12.044974218210966"
     },
     "execution_count": 328,
     "metadata": {},
     "output_type": "execute_result"
    }
   ],
   "source": [
    "(total_latency_5-total_latency_1)/total_latency_5*100"
   ],
   "metadata": {
    "collapsed": false,
    "pycharm": {
     "name": "#%%\n"
    }
   }
  },
  {
   "cell_type": "code",
   "execution_count": 329,
   "outputs": [
    {
     "data": {
      "text/plain": "66.67649722988772"
     },
     "execution_count": 329,
     "metadata": {},
     "output_type": "execute_result"
    }
   ],
   "source": [
    "(total_energy_5-total_energy_1)/total_energy_1*100"
   ],
   "metadata": {
    "collapsed": false,
    "pycharm": {
     "name": "#%%\n"
    }
   }
  },
  {
   "cell_type": "code",
   "execution_count": 330,
   "outputs": [
    {
     "data": {
      "text/plain": "48.339888709266695"
     },
     "execution_count": 330,
     "metadata": {},
     "output_type": "execute_result"
    }
   ],
   "source": [
    "(tile_area_5 - tile_area_1-ADC_area_per_tile_5)/tile_area_5*100"
   ],
   "metadata": {
    "collapsed": false,
    "pycharm": {
     "name": "#%%\n"
    }
   }
  },
  {
   "cell_type": "code",
   "execution_count": 331,
   "outputs": [
    {
     "data": {
      "text/plain": "475690.9999998667"
     },
     "execution_count": 331,
     "metadata": {},
     "output_type": "execute_result"
    }
   ],
   "source": [
    "tile_area_5"
   ],
   "metadata": {
    "collapsed": false,
    "pycharm": {
     "name": "#%%\n"
    }
   }
  },
  {
   "cell_type": "code",
   "execution_count": 332,
   "outputs": [
    {
     "data": {
      "text/plain": "245742.49999993335"
     },
     "execution_count": 332,
     "metadata": {},
     "output_type": "execute_result"
    }
   ],
   "source": [
    "tile_area_1 + ADC_area_per_tile_5"
   ],
   "metadata": {
    "collapsed": false,
    "pycharm": {
     "name": "#%%\n"
    }
   }
  },
  {
   "cell_type": "markdown",
   "source": [
    "# Area Constraint"
   ],
   "metadata": {
    "collapsed": false
   }
  },
  {
   "cell_type": "code",
   "execution_count": 333,
   "outputs": [],
   "source": [
    "max_number_tiles_5 = 72\n",
    "max_number_tiles_1 = int(max_number_tiles_5*tile_area_5/(tile_area_1+ADC_area_per_tile_5))\n",
    "time_reloading = 3.86237e+06\n",
    "writing_energy = 0.1*9.22997e+07"
   ],
   "metadata": {
    "collapsed": false,
    "pycharm": {
     "name": "#%%\n"
    }
   }
  },
  {
   "cell_type": "code",
   "execution_count": 334,
   "outputs": [
    {
     "data": {
      "text/plain": "139"
     },
     "execution_count": 334,
     "metadata": {},
     "output_type": "execute_result"
    }
   ],
   "source": [
    "max_number_tiles_1"
   ],
   "metadata": {
    "collapsed": false,
    "pycharm": {
     "name": "#%%\n"
    }
   }
  },
  {
   "cell_type": "code",
   "execution_count": 335,
   "outputs": [
    {
     "name": "stdout",
     "output_type": "stream",
     "text": [
      "1672699970.5 pJ ----- 40534497.25 ns\n"
     ]
    }
   ],
   "source": [
    "total_latency_1 = 0\n",
    "total_energy_1 = 0\n",
    "acc_tile = 0\n",
    "for k in labels:\n",
    "    acc_tile += tile_layer[k]\n",
    "    if acc_tile < max_number_tiles_1:\n",
    "        total_latency_1 += layers_1[k][1] + layers_1[k][2]\n",
    "        total_energy_1 += layers_1[k][3] + layers_1[k][4]\n",
    "    else:\n",
    "        total_latency_1 += layers_1[k][1] + time_reloading + layers_1[k][2]\n",
    "        total_energy_1 += layers_1[k][3] + writing_energy + layers_1[k][4]\n",
    "        acc_tile = tile_layer[k]\n",
    "\n",
    "print(total_energy_1, \"pJ -----\", total_latency_1, \"ns\")"
   ],
   "metadata": {
    "collapsed": false,
    "pycharm": {
     "name": "#%%\n"
    }
   }
  },
  {
   "cell_type": "code",
   "execution_count": 336,
   "outputs": [
    {
     "data": {
      "text/plain": "24.670344221427342"
     },
     "execution_count": 336,
     "metadata": {},
     "output_type": "execute_result"
    }
   ],
   "source": [
    "FPS = 1e9/total_latency_1\n",
    "FPS"
   ],
   "metadata": {
    "collapsed": false,
    "pycharm": {
     "name": "#%%\n"
    }
   }
  },
  {
   "cell_type": "code",
   "execution_count": 337,
   "outputs": [
    {
     "name": "stdout",
     "output_type": "stream",
     "text": [
      "2799006457.0 pJ ----- 61944765.5 ns\n"
     ]
    }
   ],
   "source": [
    "total_latency_5 = 0\n",
    "total_energy_5 = 0\n",
    "acc_tile = 0\n",
    "for k in labels:\n",
    "    acc_tile += tile_layer[k]\n",
    "    if acc_tile < max_number_tiles_5:\n",
    "        total_latency_5 += layers_5[k][1] + layers_5[k][2]\n",
    "        total_energy_5 += layers_5[k][3] + layers_5[k][4]\n",
    "    else:\n",
    "        total_latency_5 += layers_5[k][1] + time_reloading + layers_5[k][2]\n",
    "        total_energy_5 += layers_5[k][3] + writing_energy + layers_5[k][4]\n",
    "        acc_tile = tile_layer[k]\n",
    "\n",
    "print(total_energy_5, \"pJ -----\", total_latency_5, \"ns\")"
   ],
   "metadata": {
    "collapsed": false,
    "pycharm": {
     "name": "#%%\n"
    }
   }
  },
  {
   "cell_type": "code",
   "execution_count": 338,
   "outputs": [
    {
     "data": {
      "text/plain": "16.14341408718385"
     },
     "execution_count": 338,
     "metadata": {},
     "output_type": "execute_result"
    }
   ],
   "source": [
    "FPS = 1e9/total_latency_5\n",
    "FPS"
   ],
   "metadata": {
    "collapsed": false,
    "pycharm": {
     "name": "#%%\n"
    }
   }
  },
  {
   "cell_type": "code",
   "execution_count": 339,
   "outputs": [
    {
     "data": {
      "text/plain": "34.56348260774351"
     },
     "execution_count": 339,
     "metadata": {},
     "output_type": "execute_result"
    }
   ],
   "source": [
    "(total_latency_5-total_latency_1)/total_latency_5*100"
   ],
   "metadata": {
    "collapsed": false,
    "pycharm": {
     "name": "#%%\n"
    }
   }
  },
  {
   "cell_type": "code",
   "execution_count": 340,
   "outputs": [
    {
     "data": {
      "text/plain": "67.33463898868408"
     },
     "execution_count": 340,
     "metadata": {},
     "output_type": "execute_result"
    }
   ],
   "source": [
    "(total_energy_5-total_energy_1)/total_energy_1*100"
   ],
   "metadata": {
    "collapsed": false,
    "pycharm": {
     "name": "#%%\n"
    }
   }
  },
  {
   "cell_type": "code",
   "execution_count": 341,
   "outputs": [
    {
     "data": {
      "text/plain": "48.339888709266695"
     },
     "execution_count": 341,
     "metadata": {},
     "output_type": "execute_result"
    }
   ],
   "source": [
    "(tile_area_5 - tile_area_1-ADC_area_per_tile_5)/tile_area_5*100"
   ],
   "metadata": {
    "collapsed": false,
    "pycharm": {
     "name": "#%%\n"
    }
   }
  },
  {
   "cell_type": "markdown",
   "source": [
    "# SAR ADC"
   ],
   "metadata": {
    "collapsed": false
   }
  },
  {
   "cell_type": "code",
   "execution_count": null,
   "outputs": [],
   "source": [],
   "metadata": {
    "collapsed": false,
    "pycharm": {
     "name": "#%%\n"
    }
   }
  }
 ],
 "metadata": {
  "kernelspec": {
   "display_name": "Python 3",
   "language": "python",
   "name": "python3"
  },
  "language_info": {
   "codemirror_mode": {
    "name": "ipython",
    "version": 2
   },
   "file_extension": ".py",
   "mimetype": "text/x-python",
   "name": "python",
   "nbconvert_exporter": "python",
   "pygments_lexer": "ipython2",
   "version": "2.7.6"
  }
 },
 "nbformat": 4,
 "nbformat_minor": 0
}