{
 "cells": [
  {
   "cell_type": "code",
   "execution_count": 1,
   "outputs": [],
   "source": [
    "import numpy as np"
   ],
   "metadata": {
    "collapsed": false,
    "pycharm": {
     "name": "#%%\n"
    }
   }
  },
  {
   "cell_type": "code",
   "execution_count": 2,
   "outputs": [],
   "source": [
    "speedup_list = {\"layer1\": 64, \"layer2\": 16, \"layer3\": 4, \"layer4\": 1, \"layer5\": 1, \"layer6\": 1, \"layer7\": 1, \"layer8\": 1, \"layer9\": 4, \"layer10\": 1, \"layer11\": 4, \"layer12\": 4, \"layer13\": 16, \"layer14\": 16, \"layer15\": 64, \"layer16\": 64}"
   ],
   "metadata": {
    "collapsed": false,
    "pycharm": {
     "name": "#%%\n"
    }
   }
  },
  {
   "cell_type": "code",
   "execution_count": 10,
   "outputs": [],
   "source": [
    "latency_adc1 = 1.93184e+08 #ns"
   ],
   "metadata": {
    "collapsed": false,
    "pycharm": {
     "name": "#%%\n"
    }
   }
  },
  {
   "cell_type": "code",
   "execution_count": 11,
   "outputs": [],
   "source": [
    "LIF_area = 1448 # um^2\n",
    "LIF_latency = 5 # nanoseconds\n",
    "LIF_power_dynamic = 1202642.192e-9 # W\n",
    "LIF_power_leak = 57.640e-9 # W"
   ],
   "metadata": {
    "collapsed": false,
    "pycharm": {
     "name": "#%%\n"
    }
   }
  },
  {
   "cell_type": "code",
   "execution_count": 12,
   "outputs": [],
   "source": [
    "# No. Operations, output_channels\n",
    "SFN_structure = {\n",
    "    \"layer1\": [128*128, 64],\n",
    "    \"layer2\": [64*64, 128],\n",
    "    \"layer3\": [32*32, 256],\n",
    "    \"layer4\": [16*16, 512],\n",
    "    \"layer5\": [16*16, 512],\n",
    "    \"layer6\": [16*16, 512],\n",
    "    \"layer7\": [16*16, 512],\n",
    "    \"layer8\": [16*16, 512],\n",
    "    \"layer9\": [32*32, 32],\n",
    "    \"layer10\": [32*32, 128],\n",
    "    \"layer11\": [64*64, 32],\n",
    "    \"layer12\": [64*64, 64],\n",
    "    \"layer13\": [128*128, 32],\n",
    "    \"layer14\": [128*128, 4],\n",
    "    \"layer15\": [256*256, 32],\n",
    "\n",
    "}"
   ],
   "metadata": {
    "collapsed": false,
    "pycharm": {
     "name": "#%%\n"
    }
   }
  },
  {
   "cell_type": "markdown",
   "source": [
    "# LIF per each crossbar"
   ],
   "metadata": {
    "collapsed": false,
    "pycharm": {
     "name": "#%% md\n"
    }
   }
  },
  {
   "cell_type": "code",
   "execution_count": 15,
   "outputs": [
    {
     "name": "stdout",
     "output_type": "stream",
     "text": [
      "layer1 --- Area: 5.931 mm^2 --- Latency: 1280.0 ns --- Dynamic Energy: 1539.382 pJ --- Leakage Energy: 11135.052 pJ\n",
      "layer2 --- Area: 2.966 mm^2 --- Latency: 1280.0 ns --- Dynamic Energy: 1539.382 pJ --- Leakage Energy: 11135.052 pJ\n",
      "layer3 --- Area: 1.483 mm^2 --- Latency: 1280.0 ns --- Dynamic Energy: 1539.382 pJ --- Leakage Energy: 11135.052 pJ\n",
      "layer4 --- Area: 0.741 mm^2 --- Latency: 1280.0 ns --- Dynamic Energy: 1539.382 pJ --- Leakage Energy: 11135.052 pJ\n",
      "layer5 --- Area: 0.741 mm^2 --- Latency: 1280.0 ns --- Dynamic Energy: 1539.382 pJ --- Leakage Energy: 11135.052 pJ\n",
      "layer6 --- Area: 0.741 mm^2 --- Latency: 1280.0 ns --- Dynamic Energy: 1539.382 pJ --- Leakage Energy: 11135.052 pJ\n",
      "layer7 --- Area: 0.741 mm^2 --- Latency: 1280.0 ns --- Dynamic Energy: 1539.382 pJ --- Leakage Energy: 11135.052 pJ\n",
      "layer8 --- Area: 0.741 mm^2 --- Latency: 1280.0 ns --- Dynamic Energy: 1539.382 pJ --- Leakage Energy: 11135.052 pJ\n",
      "layer9 --- Area: 0.185 mm^2 --- Latency: 1280.0 ns --- Dynamic Energy: 1539.382 pJ --- Leakage Energy: 11135.052 pJ\n",
      "layer10 --- Area: 0.185 mm^2 --- Latency: 5120.0 ns --- Dynamic Energy: 6157.528 pJ --- Leakage Energy: 11134.831 pJ\n",
      "layer11 --- Area: 0.185 mm^2 --- Latency: 5120.0 ns --- Dynamic Energy: 6157.528 pJ --- Leakage Energy: 11134.831 pJ\n",
      "layer12 --- Area: 0.371 mm^2 --- Latency: 5120.0 ns --- Dynamic Energy: 6157.528 pJ --- Leakage Energy: 11134.831 pJ\n",
      "layer13 --- Area: 0.741 mm^2 --- Latency: 5120.0 ns --- Dynamic Energy: 6157.528 pJ --- Leakage Energy: 11134.831 pJ\n",
      "layer14 --- Area: 0.093 mm^2 --- Latency: 5120.0 ns --- Dynamic Energy: 6157.528 pJ --- Leakage Energy: 11134.831 pJ\n",
      "layer15 --- Area: 2.966 mm^2 --- Latency: 5120.0 ns --- Dynamic Energy: 6157.528 pJ --- Leakage Energy: 11134.831 pJ\n",
      "Total area: 18.812 mm^2 --- Total energy: 217824.058 pJ\n"
     ]
    }
   ],
   "source": [
    "total_area = 0\n",
    "total_energy = 0\n",
    "for layer in SFN_structure.keys():\n",
    "    area = LIF_area*speedup_list[layer]*SFN_structure[layer][1]\n",
    "    latency = LIF_latency*SFN_structure[layer][0]/speedup_list[layer]\n",
    "    energy = LIF_power_dynamic*latency*1000\n",
    "    leak_energy = LIF_power_leak*(latency_adc1 - latency)*1000\n",
    "    print(f\"{layer} --- Area: {area/1e6:.3f} mm^2 --- Latency: {latency} ns --- Dynamic Energy: {energy:.3f} pJ --- Leakage Energy: {leak_energy:.3f} pJ\")\n",
    "    total_area += area\n",
    "    total_energy += energy + leak_energy\n",
    "print(f\"Total area: {total_area/1e6:.3f} mm^2 --- Total energy: {total_energy:.3f} pJ\")"
   ],
   "metadata": {
    "collapsed": false,
    "pycharm": {
     "name": "#%%\n"
    }
   }
  },
  {
   "cell_type": "code",
   "execution_count": null,
   "outputs": [],
   "source": [],
   "metadata": {
    "collapsed": false,
    "pycharm": {
     "name": "#%%\n"
    }
   }
  }
 ],
 "metadata": {
  "kernelspec": {
   "display_name": "Python 3",
   "language": "python",
   "name": "python3"
  },
  "language_info": {
   "codemirror_mode": {
    "name": "ipython",
    "version": 2
   },
   "file_extension": ".py",
   "mimetype": "text/x-python",
   "name": "python",
   "nbconvert_exporter": "python",
   "pygments_lexer": "ipython2",
   "version": "2.7.6"
  }
 },
 "nbformat": 4,
 "nbformat_minor": 0
}